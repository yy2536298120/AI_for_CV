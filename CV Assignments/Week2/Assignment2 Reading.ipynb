{
 "cells": [
  {
   "cell_type": "markdown",
   "metadata": {},
   "source": [
    "### Random sample consensus (RANSAC)"
   ]
  },
  {
   "cell_type": "markdown",
   "metadata": {},
   "source": [
    "#### Overview\n",
    "\n",
    "\n",
    "- [RANSAC](https://en.wikipedia.org/wiki/Random_sample_consensus) is an interative method to estimate parameters of a mathematical model from a set of observed data that contains outliers.\n",
    "- It is a non-determininstic algorithm in the sense that it produces a reasonable result only with a certain probability, with this probability increasing as more interations are allowed.\n",
    "- The algorithm was first published by Fischler and Bolles at SRI International in 1981."
   ]
  },
  {
   "cell_type": "markdown",
   "metadata": {},
   "source": [
    "#### Algorithm description\n",
    " RANSAC uses the voting scheme to find the optimal fitting result. Data elements in the dataset are used to vote for one or multiple models. The implementation of this voting scheme is based on two assumptions: that the noisy features will not vote consistently for any single model (few outliers) and there are enough features to agree on a good model (few missing data). The RANSAC algorithm is essentially composed of two steps that are iteratively repeated:  \n",
    " 1. In the first step, a sample subset containing minimal data items is randomly selected from the input dataset. A fitting model and the corresponding model parameters are computed using only the elements of this sample subset. The cardinality of the sample subset is the smallest sufficient to determine the model parameters.\n",
    " 2. In the second step, the algorithm checks which elements of the entire dataset are consistent with the model instantiated by the estimated model parameters obtained from the first step. A data element will be considered as an outlier if it does not fit the fitting model instantiated by the set of estimated model parameters within some error threshold that defines the maximum deviation attributable to the effect of noise."
   ]
  },
  {
   "cell_type": "markdown",
   "metadata": {},
   "source": [
    "#### Pseudo code\n",
    "**Input**:  \n",
    "data -> two set of points A and points B  \n",
    "model -> a model to explain observed data points  \n",
    "n -> minimum number of data points required to estimate model parameters  \n",
    "k -> maximum number of iterations  \n",
    "t -> threshold value to determine data points that are fit well by model  \n",
    "d -> number of close data points required to assert that a model fits well to data  \n",
    "\n",
    "**Output**:   \n",
    "bestFit -> model parameters(homography) which best fit the data (NULL if not found)\n",
    "______\n",
    "bestFit := NULL  \n",
    "bestErr := a large number  \n",
    "**for** i:=1 to k **do**  \n",
    "&emsp;&emsp;randInliers := n pair of points randomly choosed in data  \n",
    "&emsp;&emsp;maybeModel := model parameters(homography) fitted to randInliers  \n",
    "&emsp;&emsp;newInliers := empty set  \n",
    "&emsp;&emsp;**for** every pair of points in data(not in randInliers) **do**  \n",
    "&emsp;&emsp;&emsp;&emsp;**if** err(fits maybeModel) < t **then**  \n",
    "&emsp;&emsp;&emsp;&emsp;&emsp;&emsp; add pair of points to newInliers  \n",
    "&emsp;&emsp;**if** len(newInliers) > d **then**  \n",
    "&emsp;&emsp;&emsp;&emsp;betterModel := model parameters fitted to randInliers and newInliers  \n",
    "&emsp;&emsp;&emsp;&emsp;thisErr := a measure of how well betterModel fits  \n",
    " &emsp;&emsp;&emsp;&emsp;**if** thisErr < bestErr **then**  \n",
    "  &emsp;&emsp; &emsp;&emsp; &emsp;&emsp;bestFit := betterModel  \n",
    "  &emsp;&emsp; &emsp;&emsp; &emsp;&emsp;bestErr := thisErr  \n",
    " return bestFit\n",
    "  \n",
    "\n"
   ]
  },
  {
   "cell_type": "markdown",
   "metadata": {},
   "source": [
    "#### Python implementation"
   ]
  },
  {
   "cell_type": "code",
   "execution_count": 2,
   "metadata": {},
   "outputs": [],
   "source": [
    "def ransac_matching(A, B):\n",
    "    #TODO: next week \n",
    "    pass"
   ]
  },
  {
   "cell_type": "code",
   "execution_count": null,
   "metadata": {},
   "outputs": [],
   "source": []
  }
 ],
 "metadata": {
  "kernelspec": {
   "display_name": "my-virtualenv-name",
   "language": "python",
   "name": "my-virtualenv-name"
  },
  "language_info": {
   "codemirror_mode": {
    "name": "ipython",
    "version": 3
   },
   "file_extension": ".py",
   "mimetype": "text/x-python",
   "name": "python",
   "nbconvert_exporter": "python",
   "pygments_lexer": "ipython3",
   "version": "3.6.7"
  },
  "toc": {
   "base_numbering": 1,
   "nav_menu": {},
   "number_sections": true,
   "sideBar": true,
   "skip_h1_title": false,
   "title_cell": "Table of Contents",
   "title_sidebar": "Contents",
   "toc_cell": false,
   "toc_position": {},
   "toc_section_display": true,
   "toc_window_display": false
  }
 },
 "nbformat": 4,
 "nbformat_minor": 1
}
